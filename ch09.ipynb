{
 "cells": [
  {
   "cell_type": "markdown",
   "metadata": {},
   "source": [
    "# Scala data access in Jupyter"
   ]
  },
  {
   "cell_type": "code",
   "execution_count": 1,
   "metadata": {},
   "outputs": [
    {
     "name": "stdout",
     "output_type": "stream",
     "text": [
      "SepalLength, SepalWidth, PetalLength, PetalWidth, Class\n",
      "5.1|3.5|1.4|0.2 |Iris-setosa\n",
      "4.9|3.0|1.4|0.2 |Iris-setosa\n",
      "4.7|3.2|1.3|0.2 |Iris-setosa\n",
      "4.6|3.1|1.5|0.2 |Iris-setosa\n",
      "5.0|3.6|1.4|0.2 |Iris-setosa\n",
      "5.4|3.9|1.7|0.4 |Iris-setosa\n",
      "4.6|3.4|1.4|0.3 |Iris-setosa\n",
      "5.0|3.4|1.5|0.2 |Iris-setosa\n",
      "4.4|2.9|1.4|0.2 |Iris-setosa\n",
      "4.9|3.1|1.5|0.1 |Iris-setosa\n",
      "5.4|3.7|1.5|0.2 |Iris-setosa\n",
      "4.8|3.4|1.6|0.2 |Iris-setosa\n",
      "4.8|3.0|1.4|0.1 |Iris-setosa\n",
      "4.3|3.0|1.1|0.1 |Iris-setosa\n",
      "5.8|4.0|1.2|0.2 |Iris-setosa\n",
      "5.7|4.4|1.5|0.4 |Iris-setosa\n",
      "5.4|3.9|1.3|0.4 |Iris-setosa\n",
      "5.1|3.5|1.4|0.3 |Iris-setosa\n",
      "5.7|3.8|1.7|0.3 |Iris-setosa\n",
      "5.1|3.8|1.5|0.3 |Iris-setosa\n",
      "5.4|3.4|1.7|0.2 |Iris-setosa\n",
      "5.1|3.7|1.5|0.4 |Iris-setosa\n",
      "4.6|3.6|1.0|0.2 |Iris-setosa\n",
      "5.1|3.3|1.7|0.5 |Iris-setosa\n",
      "4.8|3.4|1.9|0.2 |Iris-setosa\n",
      "5.0|3.0|1.6|0.2 |Iris-setosa\n",
      "5.0|3.4|1.6|0.4 |Iris-setosa\n",
      "5.2|3.5|1.5|0.2 |Iris-setosa\n",
      "5.2|3.4|1.4|0.2 |Iris-setosa\n",
      "4.7|3.2|1.6|0.2 |Iris-setosa\n",
      "4.8|3.1|1.6|0.2 |Iris-setosa\n",
      "5.4|3.4|1.5|0.4 |Iris-setosa\n",
      "5.2|4.1|1.5|0.1 |Iris-setosa\n",
      "5.5|4.2|1.4|0.2 |Iris-setosa\n",
      "4.9|3.1|1.5|0.1 |Iris-setosa\n",
      "5.0|3.2|1.2|0.2 |Iris-setosa\n",
      "5.5|3.5|1.3|0.2 |Iris-setosa\n",
      "4.9|3.1|1.5|0.1 |Iris-setosa\n",
      "4.4|3.0|1.3|0.2 |Iris-setosa\n",
      "5.1|3.4|1.5|0.2 |Iris-setosa\n",
      "5.0|3.5|1.3|0.3 |Iris-setosa\n",
      "4.5|2.3|1.3|0.3 |Iris-setosa\n",
      "4.4|3.2|1.3|0.2 |Iris-setosa\n",
      "5.0|3.5|1.6|0.6 |Iris-setosa\n",
      "5.1|3.8|1.9|0.4 |Iris-setosa\n",
      "4.8|3.0|1.4|0.3 |Iris-setosa\n",
      "5.1|3.8|1.6|0.2 |Iris-setosa\n",
      "4.6|3.2|1.4|0.2 |Iris-setosa\n",
      "5.3|3.7|1.5|0.2 |Iris-setosa\n",
      "5.0|3.3|1.4|0.2 |Iris-setosa\n",
      "7.0|3.2|4.7|1.4 |Iris-versicolor\n",
      "6.4|3.2|4.5|1.5 |Iris-versicolor\n",
      "6.9|3.1|4.9|1.5 |Iris-versicolor\n",
      "5.5|2.3|4.0|1.3 |Iris-versicolor\n",
      "6.5|2.8|4.6|1.5 |Iris-versicolor\n",
      "5.7|2.8|4.5|1.3 |Iris-versicolor\n",
      "6.3|3.3|4.7|1.6 |Iris-versicolor\n",
      "4.9|2.4|3.3|1.0 |Iris-versicolor\n",
      "6.6|2.9|4.6|1.3 |Iris-versicolor\n",
      "5.2|2.7|3.9|1.4 |Iris-versicolor\n",
      "5.0|2.0|3.5|1.0 |Iris-versicolor\n",
      "5.9|3.0|4.2|1.5 |Iris-versicolor\n",
      "6.0|2.2|4.0|1.0 |Iris-versicolor\n",
      "6.1|2.9|4.7|1.4 |Iris-versicolor\n",
      "5.6|2.9|3.6|1.3 |Iris-versicolor\n",
      "6.7|3.1|4.4|1.4 |Iris-versicolor\n",
      "5.6|3.0|4.5|1.5 |Iris-versicolor\n",
      "5.8|2.7|4.1|1.0 |Iris-versicolor\n",
      "6.2|2.2|4.5|1.5 |Iris-versicolor\n",
      "5.6|2.5|3.9|1.1 |Iris-versicolor\n",
      "5.9|3.2|4.8|1.8 |Iris-versicolor\n",
      "6.1|2.8|4.0|1.3 |Iris-versicolor\n",
      "6.3|2.5|4.9|1.5 |Iris-versicolor\n",
      "6.1|2.8|4.7|1.2 |Iris-versicolor\n",
      "6.4|2.9|4.3|1.3 |Iris-versicolor\n",
      "6.6|3.0|4.4|1.4 |Iris-versicolor\n",
      "6.8|2.8|4.8|1.4 |Iris-versicolor\n",
      "6.7|3.0|5.0|1.7 |Iris-versicolor\n",
      "6.0|2.9|4.5|1.5 |Iris-versicolor\n",
      "5.7|2.6|3.5|1.0 |Iris-versicolor\n",
      "5.5|2.4|3.8|1.1 |Iris-versicolor\n",
      "5.5|2.4|3.7|1.0 |Iris-versicolor\n",
      "5.8|2.7|3.9|1.2 |Iris-versicolor\n",
      "6.0|2.7|5.1|1.6 |Iris-versicolor\n",
      "5.4|3.0|4.5|1.5 |Iris-versicolor\n",
      "6.0|3.4|4.5|1.6 |Iris-versicolor\n",
      "6.7|3.1|4.7|1.5 |Iris-versicolor\n",
      "6.3|2.3|4.4|1.3 |Iris-versicolor\n",
      "5.6|3.0|4.1|1.3 |Iris-versicolor\n",
      "5.5|2.5|4.0|1.3 |Iris-versicolor\n",
      "5.5|2.6|4.4|1.2 |Iris-versicolor\n",
      "6.1|3.0|4.6|1.4 |Iris-versicolor\n",
      "5.8|2.6|4.0|1.2 |Iris-versicolor\n",
      "5.0|2.3|3.3|1.0 |Iris-versicolor\n",
      "5.6|2.7|4.2|1.3 |Iris-versicolor\n",
      "5.7|3.0|4.2|1.2 |Iris-versicolor\n",
      "5.7|2.9|4.2|1.3 |Iris-versicolor\n",
      "6.2|2.9|4.3|1.3 |Iris-versicolor\n",
      "5.1|2.5|3.0|1.1 |Iris-versicolor\n",
      "5.7|2.8|4.1|1.3 |Iris-versicolor\n",
      "6.3|3.3|6.0|2.5 |Iris-virginica\n",
      "5.8|2.7|5.1|1.9 |Iris-virginica\n",
      "7.1|3.0|5.9|2.1 |Iris-virginica\n",
      "6.3|2.9|5.6|1.8 |Iris-virginica\n",
      "6.5|3.0|5.8|2.2 |Iris-virginica\n",
      "7.6|3.0|6.6|2.1 |Iris-virginica\n",
      "4.9|2.5|4.5|1.7 |Iris-virginica\n",
      "7.3|2.9|6.3|1.8 |Iris-virginica\n",
      "6.7|2.5|5.8|1.8 |Iris-virginica\n",
      "7.2|3.6|6.1|2.5 |Iris-virginica\n",
      "6.5|3.2|5.1|2.0 |Iris-virginica\n",
      "6.4|2.7|5.3|1.9 |Iris-virginica\n",
      "6.8|3.0|5.5|2.1 |Iris-virginica\n",
      "5.7|2.5|5.0|2.0 |Iris-virginica\n",
      "5.8|2.8|5.1|2.4 |Iris-virginica\n",
      "6.4|3.2|5.3|2.3 |Iris-virginica\n",
      "6.5|3.0|5.5|1.8 |Iris-virginica\n",
      "7.7|3.8|6.7|2.2 |Iris-virginica\n",
      "7.7|2.6|6.9|2.3 |Iris-virginica\n",
      "6.0|2.2|5.0|1.5 |Iris-virginica\n",
      "6.9|3.2|5.7|2.3 |Iris-virginica\n",
      "5.6|2.8|4.9|2.0 |Iris-virginica\n",
      "7.7|2.8|6.7|2.0 |Iris-virginica\n",
      "6.3|2.7|4.9|1.8 |Iris-virginica\n",
      "6.7|3.3|5.7|2.1 |Iris-virginica\n",
      "7.2|3.2|6.0|1.8 |Iris-virginica\n",
      "6.2|2.8|4.8|1.8 |Iris-virginica\n",
      "6.1|3.0|4.9|1.8 |Iris-virginica\n",
      "6.4|2.8|5.6|2.1 |Iris-virginica\n",
      "7.2|3.0|5.8|1.6 |Iris-virginica\n",
      "7.4|2.8|6.1|1.9 |Iris-virginica\n",
      "7.9|3.8|6.4|2.0 |Iris-virginica\n",
      "6.4|2.8|5.6|2.2 |Iris-virginica\n",
      "6.3|2.8|5.1|1.5 |Iris-virginica\n",
      "6.1|2.6|5.6|1.4 |Iris-virginica\n",
      "7.7|3.0|6.1|2.3 |Iris-virginica\n",
      "6.3|3.4|5.6|2.4 |Iris-virginica\n",
      "6.4|3.1|5.5|1.8 |Iris-virginica\n",
      "6.0|3.0|4.8|1.8 |Iris-virginica\n",
      "6.9|3.1|5.4|2.1 |Iris-virginica\n",
      "6.7|3.1|5.6|2.4 |Iris-virginica\n",
      "6.9|3.1|5.1|2.3 |Iris-virginica\n",
      "5.8|2.7|5.1|1.9 |Iris-virginica\n",
      "6.8|3.2|5.9|2.3 |Iris-virginica\n",
      "6.7|3.3|5.7|2.5 |Iris-virginica\n",
      "6.7|3.0|5.2|2.3 |Iris-virginica\n",
      "6.3|2.5|5.0|1.9 |Iris-virginica\n",
      "6.5|3.0|5.2|2.0 |Iris-virginica\n",
      "6.2|3.4|5.4|2.3 |Iris-virginica\n",
      "5.9|3.0|5.1|1.8 |Iris-virginica\n"
     ]
    },
    {
     "data": {
      "text/plain": [
       "\u001b[32mimport \u001b[39m\u001b[36mscala.io.Source;\r\n",
       "\r\n",
       "//copied file locally https://archive.ics.uci.edu/ml/machine-learning-databases/iris/iris.data\r\n",
       "\u001b[39m\r\n",
       "\u001b[36mfilename\u001b[39m: \u001b[32mString\u001b[39m = \u001b[32m\"data/iris.data\"\u001b[39m\r\n",
       "\u001b[36marray\u001b[39m: \u001b[32mcollection\u001b[39m.\u001b[32mmutable\u001b[39m.\u001b[32mArrayBuffer\u001b[39m[\u001b[32mFloat\u001b[39m] = \u001b[33mArrayBuffer\u001b[39m(\n",
       "  \u001b[32m5.1F\u001b[39m,\n",
       "  \u001b[32m4.9F\u001b[39m,\n",
       "  \u001b[32m4.7F\u001b[39m,\n",
       "  \u001b[32m4.6F\u001b[39m,\n",
       "  \u001b[32m5.0F\u001b[39m,\n",
       "  \u001b[32m5.4F\u001b[39m,\n",
       "  \u001b[32m4.6F\u001b[39m,\n",
       "  \u001b[32m5.0F\u001b[39m,\n",
       "  \u001b[32m4.4F\u001b[39m,\n",
       "  \u001b[32m4.9F\u001b[39m,\n",
       "  \u001b[32m5.4F\u001b[39m,\n",
       "\u001b[33m...\u001b[39m\r\n",
       "\u001b[36mcount\u001b[39m: \u001b[32mInt\u001b[39m = \u001b[32m150\u001b[39m\r\n",
       "\u001b[36mmin\u001b[39m: \u001b[32mDouble\u001b[39m = \u001b[32m4.300000190734863\u001b[39m\r\n",
       "\u001b[36mmax\u001b[39m: \u001b[32mDouble\u001b[39m = \u001b[32m7.900000095367432\u001b[39m\r\n",
       "\u001b[36mtotal\u001b[39m: \u001b[32mDouble\u001b[39m = \u001b[32m876.4999990463257\u001b[39m\r\n",
       "\u001b[36mmean\u001b[39m: \u001b[32mDouble\u001b[39m = \u001b[32m5.843333326975505\u001b[39m"
      ]
     },
     "execution_count": 1,
     "metadata": {},
     "output_type": "execute_result"
    }
   ],
   "source": [
    "import scala.io.Source;\n",
    "\n",
    "//copied file locally https://archive.ics.uci.edu/ml/machine-learning-databases/iris/iris.data\n",
    "val filename = \"data/iris.data\"\n",
    "\n",
    "//DEBUGGING Uncomment this line to display more information -\n",
    "println(\"SepalLength, SepalWidth, PetalLength, PetalWidth, Class\");\n",
    "\n",
    "val array = scala.collection.mutable.ArrayBuffer.empty[Float]\n",
    "for (line <- Source.fromFile(filename).getLines) {\n",
    "    var cols = line.split(\",\").map(_.trim);\n",
    "    println(s\"${cols(0)}|${cols(1)}|${cols(2)}|${cols(3)} |${cols(4)}\");\n",
    "    val i = cols(0).toFloat\n",
    "    array += i;\n",
    "}\n",
    "\n",
    "val count = array.length;\n",
    "var min:Double = 9999.0;\n",
    "var max:Double = 0.0;\n",
    "var total:Double = 0.0;\n",
    "\n",
    "for ( x <- array ) {\n",
    "    if (x < min) { min = x; }\n",
    "    if (x > max) { max = x; }\n",
    "    total += x;\n",
    "}\n",
    "\n",
    "val mean:Double = total / count;"
   ]
  },
  {
   "cell_type": "markdown",
   "metadata": {},
   "source": [
    "# Scala array operations"
   ]
  },
  {
   "cell_type": "code",
   "execution_count": 2,
   "metadata": {},
   "outputs": [
    {
     "data": {
      "text/plain": [
       "\u001b[32mimport \u001b[39m\u001b[36mscala.io.Source;\r\n",
       "\r\n",
       "\u001b[39m\r\n",
       "\u001b[36mfilename\u001b[39m: \u001b[32mString\u001b[39m = \u001b[32m\"data/train.csv\"\u001b[39m\r\n",
       "\u001b[36mmales\u001b[39m: \u001b[32mInt\u001b[39m = \u001b[32m577\u001b[39m\r\n",
       "\u001b[36mfemales\u001b[39m: \u001b[32mInt\u001b[39m = \u001b[32m314\u001b[39m\r\n",
       "\u001b[36mmales_survived\u001b[39m: \u001b[32mInt\u001b[39m = \u001b[32m109\u001b[39m\r\n",
       "\u001b[36mfemales_survived\u001b[39m: \u001b[32mInt\u001b[39m = \u001b[32m233\u001b[39m\r\n",
       "\u001b[36mmens_survival_rate\u001b[39m: \u001b[32mFloat\u001b[39m = \u001b[32m0.18890814F\u001b[39m\r\n",
       "\u001b[36mwomens_survival_rate\u001b[39m: \u001b[32mFloat\u001b[39m = \u001b[32m0.7420382F\u001b[39m"
      ]
     },
     "execution_count": 2,
     "metadata": {},
     "output_type": "execute_result"
    }
   ],
   "source": [
    "import scala.io.Source;\n",
    "\n",
    "val filename = \"data/train.csv\"\n",
    "\n",
    "//PassengerId,Survived,Pclass,Name,Sex,Age,SibSp,Parch,Ticket,Fare,Cabin,Embarked\n",
    "//1,0,3,\"Braund, Mr. Owen Harris\",male,22,1,0,A/5 21171,7.25,,S\n",
    "var males = 0\n",
    "var females = 0\n",
    "var males_survived = 0\n",
    "var females_survived = 0\n",
    "\n",
    "for (line <- Source.fromFile(filename).getLines) {\n",
    "    var cols = line.split(\",\").map(_.trim);\n",
    "    var sex = cols(5);\n",
    "    if (sex == \"male\") {\n",
    "        males = males + 1;\n",
    "        if (cols(1).toInt == 1) {\n",
    "            males_survived = males_survived + 1;\n",
    "        }\n",
    "    }\n",
    "    if (sex == \"female\") {\n",
    "        females = females + 1;\n",
    "        if (cols(1).toInt == 1) {\n",
    "            females_survived = females_survived + 1;\n",
    "        }\n",
    "    }\n",
    "}\n",
    "\n",
    "val mens_survival_rate = males_survived.toFloat/males.toFloat\n",
    "val womens_survival_rate = females_survived.toFloat/females.toFloat"
   ]
  },
  {
   "cell_type": "markdown",
   "metadata": {},
   "source": [
    "# Scala random numbers in Jupyter"
   ]
  },
  {
   "cell_type": "code",
   "execution_count": 3,
   "metadata": {},
   "outputs": [
    {
     "name": "stdout",
     "output_type": "stream",
     "text": [
      "(1,XXXXXXX,\n",
      ")(2,XXXXXXXXXXXXXXXX,\n",
      ")(3,XXXXXXXXXXXXXXXXXXXXXXXXX,\n",
      ")(4,XXXXXXXXXXXXXXXXXXXXXXXXXXXXXXXXXXXXX,\n",
      ")(5,XXXXXXXXXXXXXXXXXXXXXXXXXXXXXXXXXXXXXXXXXXXXXXXXX,\n",
      ")(6,XXXXXXXXXXXXXXXXXXXXXXXXXXXXXXXXXXXXXXXXXXXXXXXXXXXXXX,\n",
      ")(7,XXXXXXXXXXXXXXXXXXXXXXXXXXXXXXXXXXXXXXXXXXXXX,\n",
      ")(8,XXXXXXXXXXXXXXXXXXXXXXXXXXXXXXXXXXXXXX,\n",
      ")(9,XXXXXXXXXXXXXXXXXXXXXXXXXX,\n",
      ")(10,XXXXXXXXXXXXXXXXXXXXXXX,\n",
      ")(11,XXXXXXXXXX,\n",
      ")(12,,\n",
      ")"
     ]
    },
    {
     "data": {
      "text/plain": [
       "\u001b[36mr\u001b[39m: \u001b[32mutil\u001b[39m.\u001b[32mRandom\u001b[39m = scala.util.Random@13509c69\r\n",
       "\u001b[36msamples\u001b[39m: \u001b[32mInt\u001b[39m = \u001b[32m1000\u001b[39m\r\n",
       "\u001b[36mdice\u001b[39m: \u001b[32mArray\u001b[39m[\u001b[32mInt\u001b[39m] = \u001b[33mArray\u001b[39m(\u001b[32m23\u001b[39m, \u001b[32m48\u001b[39m, \u001b[32m76\u001b[39m, \u001b[32m112\u001b[39m, \u001b[32m148\u001b[39m, \u001b[32m164\u001b[39m, \u001b[32m135\u001b[39m, \u001b[32m114\u001b[39m, \u001b[32m78\u001b[39m, \u001b[32m71\u001b[39m, \u001b[32m31\u001b[39m, \u001b[32m0\u001b[39m)\r\n",
       "\u001b[36mmax\u001b[39m: \u001b[32mInt\u001b[39m = \u001b[32m164\u001b[39m"
      ]
     },
     "execution_count": 3,
     "metadata": {},
     "output_type": "execute_result"
    }
   ],
   "source": [
    "val r = new scala.util.Random\n",
    "r.setSeed(113L)\n",
    "val samples = 1000\n",
    "var dice = new Array[Int](12)\n",
    "\n",
    "for( i <- 1 to samples){\n",
    "    var total = r.nextInt(6) + r.nextInt(6)\n",
    "    dice(total) = dice(total) + 1\n",
    "}\n",
    "\n",
    "val max = dice.reduceLeft(_ max _)\n",
    "\n",
    "for( i <- 0 to 11) {\n",
    "    var str = \"\"\n",
    "    for( j <- 1 to dice(i)/3) {\n",
    "        str = str + \"X\"\n",
    "    }\n",
    "    print(i+1, str, \"\\n\")\n",
    "}"
   ]
  },
  {
   "cell_type": "markdown",
   "metadata": {},
   "source": [
    "# Scala closures"
   ]
  },
  {
   "cell_type": "code",
   "execution_count": 4,
   "metadata": {},
   "outputs": [
    {
     "data": {
      "text/plain": [
       "\u001b[36mfactor\u001b[39m: \u001b[32mInt\u001b[39m = \u001b[32m7\u001b[39m\r\n",
       "\u001b[36mmultiplier\u001b[39m: \u001b[32mInt\u001b[39m => \u001b[32mInt\u001b[39m = <function1>\r\n",
       "\u001b[36ma\u001b[39m: \u001b[32mInt\u001b[39m = \u001b[32m77\u001b[39m\r\n",
       "\u001b[36mb\u001b[39m: \u001b[32mInt\u001b[39m = \u001b[32m84\u001b[39m"
      ]
     },
     "execution_count": 4,
     "metadata": {},
     "output_type": "execute_result"
    }
   ],
   "source": [
    "var factor = 7\n",
    "val multiplier = (i:Int) => i * factor\n",
    "val a = multiplier(11)\n",
    "val b = multiplier(12)"
   ]
  },
  {
   "cell_type": "markdown",
   "metadata": {},
   "source": [
    "# Scala higher-order functions"
   ]
  },
  {
   "cell_type": "code",
   "execution_count": 5,
   "metadata": {},
   "outputs": [
    {
     "data": {
      "text/plain": [
       "defined \u001b[32mfunction\u001b[39m \u001b[36msquared\u001b[39m\r\n",
       "defined \u001b[32mfunction\u001b[39m \u001b[36mcubed\u001b[39m\r\n",
       "defined \u001b[32mfunction\u001b[39m \u001b[36mprocess\u001b[39m\r\n",
       "\u001b[36mfiveSquared\u001b[39m: \u001b[32mInt\u001b[39m = \u001b[32m25\u001b[39m\r\n",
       "\u001b[36msevenCubed\u001b[39m: \u001b[32mInt\u001b[39m = \u001b[32m343\u001b[39m"
      ]
     },
     "execution_count": 5,
     "metadata": {},
     "output_type": "execute_result"
    }
   ],
   "source": [
    "def squared(x: Int): Int = x * x\n",
    "def cubed(x: Int): Int = x * x * x\n",
    "def process(a: Int, processor: Int => Int): Int = {processor(a) }\n",
    "val fiveSquared = process(5, squared)\n",
    "val sevenCubed = process(7, cubed)"
   ]
  },
  {
   "cell_type": "markdown",
   "metadata": {},
   "source": [
    "# Scala pattern matching"
   ]
  },
  {
   "cell_type": "code",
   "execution_count": 7,
   "metadata": {},
   "outputs": [
    {
     "data": {
      "text/plain": [
       "defined \u001b[32mfunction\u001b[39m \u001b[36mmatchTest\u001b[39m\r\n",
       "\u001b[36misItTwo\u001b[39m: \u001b[32mAny\u001b[39m = 2\r\n",
       "\u001b[36misItTest\u001b[39m: \u001b[32mAny\u001b[39m = something\r\n",
       "\u001b[36misItSeven\u001b[39m: \u001b[32mAny\u001b[39m = seven"
      ]
     },
     "execution_count": 7,
     "metadata": {},
     "output_type": "execute_result"
    }
   ],
   "source": [
    "def matchTest(x: Any): Any = x match {\n",
    "    case 7 => \"seven\"\n",
    "    case \"two\" => 2\n",
    "    case _ => \"something\"\n",
    "}\n",
    "\n",
    "val isItTwo = matchTest(\"two\")\n",
    "val isItTest = matchTest(\"test\")\n",
    "val isItSeven = matchTest(7)"
   ]
  },
  {
   "cell_type": "markdown",
   "metadata": {},
   "source": [
    "# Scala case classes"
   ]
  },
  {
   "cell_type": "code",
   "execution_count": 10,
   "metadata": {},
   "outputs": [
    {
     "data": {
      "text/plain": [
       "defined \u001b[32mclass\u001b[39m \u001b[36mCar\u001b[39m\r\n",
       "\u001b[36mbuickLeSabre\u001b[39m: \u001b[32mwrapper\u001b[39m.\u001b[32mwrapper\u001b[39m.\u001b[32mCar\u001b[39m = \u001b[33mCar\u001b[39m(\u001b[32m\"Buick\"\u001b[39m, \u001b[32m\"LeSabre\"\u001b[39m)\r\n",
       "defined \u001b[32mfunction\u001b[39m \u001b[36mcarType\u001b[39m\r\n",
       "\u001b[36mtypeOfBuick\u001b[39m: \u001b[32mString\u001b[39m = \u001b[32m\"sedan\"\u001b[39m"
      ]
     },
     "execution_count": 10,
     "metadata": {},
     "output_type": "execute_result"
    }
   ],
   "source": [
    "case class Car(brand: String, model: String)\n",
    "val buickLeSabre = Car(\"Buick\", \"LeSabre\")\n",
    "\n",
    "def carType(car: Car) = car match {\n",
    "    case Car(\"Honda\", \"Accord\") => \"sedan\"\n",
    "    case Car(\"GM\", \"Denali\") => \"suv\"\n",
    "    case Car(\"Mercedes\", \"300\") => \"luxury\"\n",
    "    case Car(\"Buick\", \"LeSabre\") => \"sedan\"\n",
    "    case _ => \"Car: is of unknown type\"\n",
    "}\n",
    "\n",
    "val typeOfBuick = carType(buickLeSabre)"
   ]
  },
  {
   "cell_type": "markdown",
   "metadata": {},
   "source": [
    "# Scala immutability"
   ]
  },
  {
   "cell_type": "code",
   "execution_count": 10,
   "metadata": {},
   "outputs": [
    {
     "name": "stderr",
     "output_type": "stream",
     "text": [
      "cmd10.sc:2: reassignment to val\r\n",
      "    amount = amount + 1;\r\n",
      "           ^"
     ]
    },
    {
     "ename": "",
     "evalue": "",
     "output_type": "error",
     "traceback": [
      "Compilation Failed"
     ]
    }
   ],
   "source": [
    "def calculate (amount: Int): Int = {\n",
    "    amount = amount + 1;\n",
    "    return amount;\n",
    "}\n",
    "\n",
    "var balance = 1000\n",
    "val result = calculate(balance)"
   ]
  },
  {
   "cell_type": "markdown",
   "metadata": {},
   "source": [
    "# Scala collections"
   ]
  },
  {
   "cell_type": "code",
   "execution_count": 11,
   "metadata": {},
   "outputs": [
    {
     "data": {
      "text/plain": [
       "\u001b[36mmutableList\u001b[39m: \u001b[32mList\u001b[39m[\u001b[32mInt\u001b[39m] = \u001b[33mList\u001b[39m(\u001b[32m1\u001b[39m, \u001b[32m2\u001b[39m, \u001b[32m3\u001b[39m)\r\n",
       "\u001b[36mimmutableList\u001b[39m: \u001b[32mList\u001b[39m[\u001b[32mInt\u001b[39m] = \u001b[33mList\u001b[39m(\u001b[32m4\u001b[39m, \u001b[32m5\u001b[39m, \u001b[32m6\u001b[39m)\r\n",
       "\u001b[36mres10_2\u001b[39m: \u001b[32mList\u001b[39m[\u001b[32mInt\u001b[39m] = \u001b[33mList\u001b[39m(\u001b[32m1\u001b[39m, \u001b[32m400\u001b[39m, \u001b[32m3\u001b[39m)\r\n",
       "\u001b[36mres10_3\u001b[39m: \u001b[32mList\u001b[39m[\u001b[32mInt\u001b[39m] = \u001b[33mList\u001b[39m(\u001b[32m4\u001b[39m, \u001b[32m700\u001b[39m, \u001b[32m6\u001b[39m)"
      ]
     },
     "execution_count": 11,
     "metadata": {},
     "output_type": "execute_result"
    }
   ],
   "source": [
    "var mutableList = List(1, 2, 3);\n",
    "var immutableList = scala.collection.immutable.List(4, 5, 6);\n",
    "mutableList.updated(1,400);\n",
    "immutableList.updated(1,700);"
   ]
  },
  {
   "cell_type": "markdown",
   "metadata": {},
   "source": [
    "# Named arguments"
   ]
  },
  {
   "cell_type": "code",
   "execution_count": 14,
   "metadata": {},
   "outputs": [
    {
     "data": {
      "text/plain": [
       "defined \u001b[32mfunction\u001b[39m \u001b[36mdivide\u001b[39m\r\n",
       "\u001b[36mres13_1\u001b[39m: \u001b[32mFloat\u001b[39m = \u001b[32m8.0F\u001b[39m\r\n",
       "\u001b[36mres13_2\u001b[39m: \u001b[32mFloat\u001b[39m = \u001b[32m0.125F\u001b[39m"
      ]
     },
     "execution_count": 14,
     "metadata": {},
     "output_type": "execute_result"
    }
   ],
   "source": [
    "def divide(dividend:Int, divisor:Int): Float = {dividend.toFloat / divisor.toFloat}\n",
    "divide(40, 5)\n",
    "divide(divisor = 40, dividend = 5)"
   ]
  },
  {
   "cell_type": "markdown",
   "metadata": {},
   "source": [
    "# Scala traits"
   ]
  },
  {
   "cell_type": "code",
   "execution_count": 16,
   "metadata": {},
   "outputs": [
    {
     "data": {
      "text/plain": [
       "defined \u001b[32mtrait\u001b[39m \u001b[36mColor\u001b[39m\r\n",
       "defined \u001b[32mclass\u001b[39m \u001b[36mRed\u001b[39m\r\n",
       "defined \u001b[32mclass\u001b[39m \u001b[36mBlue\u001b[39m\r\n",
       "\u001b[36mred\u001b[39m: \u001b[32mwrapper\u001b[39m.\u001b[32mwrapper\u001b[39m.\u001b[32mRed\u001b[39m = $sess.cmd15Wrapper$Helper$Red@2428fd1c\r\n",
       "\u001b[36mblue\u001b[39m: \u001b[32mwrapper\u001b[39m.\u001b[32mwrapper\u001b[39m.\u001b[32mBlue\u001b[39m = $sess.cmd15Wrapper$Helper$Blue@bab7916\r\n",
       "\u001b[36mres15_5\u001b[39m: \u001b[32mBoolean\u001b[39m = \u001b[32mtrue\u001b[39m\r\n",
       "\u001b[36mres15_6\u001b[39m: \u001b[32mBoolean\u001b[39m = \u001b[32mfalse\u001b[39m"
      ]
     },
     "execution_count": 16,
     "metadata": {},
     "output_type": "execute_result"
    }
   ],
   "source": [
    "trait Color {\n",
    "    def isRed(): Boolean\n",
    "}\n",
    "\n",
    "class Red extends Color {\n",
    "    def isRed() = true\n",
    "}\n",
    "\n",
    "class Blue extends Color {\n",
    "    def isRed() = false\n",
    "}\n",
    "\n",
    "var red = new Red();\n",
    "var blue = new Blue();\n",
    "\n",
    "red.isRed()\n",
    "blue.isRed()"
   ]
  }
 ],
 "metadata": {
  "kernelspec": {
   "display_name": "Scala",
   "language": "scala",
   "name": "scala"
  },
  "language_info": {
   "codemirror_mode": "text/x-scala",
   "file_extension": ".scala",
   "mimetype": "text/x-scala",
   "name": "scala211",
   "nbconvert_exporter": "script",
   "pygments_lexer": "scala",
   "version": "2.11.11"
  }
 },
 "nbformat": 4,
 "nbformat_minor": 2
}
